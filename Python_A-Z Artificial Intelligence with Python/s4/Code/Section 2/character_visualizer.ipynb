{
 "cells": [
  {
   "cell_type": "code",
   "execution_count": 1,
   "metadata": {
    "collapsed": true
   },
   "outputs": [],
   "source": [
    "import os\n",
    "import sys\n",
    "\n",
    "import cv2\n",
    "import numpy as np\n"
   ]
  },
  {
   "cell_type": "code",
   "execution_count": 2,
   "metadata": {
    "collapsed": true
   },
   "outputs": [],
   "source": [
    "# Define the input file \n",
    "input_file = 'letter.data' \n",
    "\n",
    "# Define the visualization parameters \n",
    "img_resize_factor = 12\n",
    "start = 6\n",
    "end = -1\n",
    "height, width = 16, 8\n"
   ]
  },
  {
   "cell_type": "code",
   "execution_count": null,
   "metadata": {
    "collapsed": false
   },
   "outputs": [],
   "source": []
  },
  {
   "cell_type": "code",
   "execution_count": 5,
   "metadata": {
    "collapsed": true
   },
   "outputs": [],
   "source": [
    "# Iterate until the user presses the Esc key\n",
    "with open(input_file, 'r') as f:\n",
    "    for line in f.readlines():\n",
    "        # Read the data\n",
    "        data = np.array([255 * float(x) for x in line.split('\\t')[start:end]])\n",
    "\n",
    "        # Reshape the data into a 2D image\n",
    "        img = np.reshape(data, (height, width))\n",
    "\n",
    "        # Scale the image\n",
    "        img_scaled = cv2.resize(img, None, fx=img_resize_factor, fy=img_resize_factor)\n",
    "\n",
    "        # Display the image\n",
    "        cv2.imshow('Image', img_scaled)\n",
    "\n",
    "        # Check if the user pressed the Esc key\n",
    "        c = cv2.waitKey()\n",
    "        if c == 27:\n",
    "            break"
   ]
  },
  {
   "cell_type": "code",
   "execution_count": null,
   "metadata": {
    "collapsed": true
   },
   "outputs": [],
   "source": []
  }
 ],
 "metadata": {
  "kernelspec": {
   "display_name": "Python 3",
   "language": "python",
   "name": "python3"
  },
  "language_info": {
   "codemirror_mode": {
    "name": "ipython",
    "version": 3
   },
   "file_extension": ".py",
   "mimetype": "text/x-python",
   "name": "python",
   "nbconvert_exporter": "python",
   "pygments_lexer": "ipython3",
   "version": "3.6.0"
  }
 },
 "nbformat": 4,
 "nbformat_minor": 2
}
