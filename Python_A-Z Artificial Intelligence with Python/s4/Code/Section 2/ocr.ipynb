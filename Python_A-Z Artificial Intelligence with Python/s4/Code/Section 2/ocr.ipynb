{
 "cells": [
  {
   "cell_type": "code",
   "execution_count": 1,
   "metadata": {
    "collapsed": true
   },
   "outputs": [],
   "source": [
    "import numpy as np\n",
    "import neurolab as nl\n",
    "\n",
    "# Define the input file\n",
    "input_file = 'letter.data'\n",
    "\n",
    "# Define the number of datapoints to \n",
    "# be loaded from the input file\n",
    "num_datapoints = 50\n",
    "\n",
    "# String containing all the distinct characters\n",
    "orig_labels = 'omandig'\n"
   ]
  },
  {
   "cell_type": "code",
   "execution_count": 3,
   "metadata": {
    "collapsed": false
   },
   "outputs": [],
   "source": [
    "\n",
    "# Compute the number of distinct characters\n",
    "num_orig_labels = len(orig_labels)\n",
    "\n",
    "# Define the training and testing parameters\n",
    "num_train = int(0.9 * num_datapoints)\n",
    "num_test = num_datapoints - num_train\n",
    "\n",
    "# Define the dataset extraction parameters \n",
    "start = 6\n",
    "end = -1"
   ]
  },
  {
   "cell_type": "code",
   "execution_count": 4,
   "metadata": {
    "collapsed": true
   },
   "outputs": [],
   "source": [
    "# Creating the dataset\n",
    "data = []\n",
    "labels = []\n",
    "with open(input_file, 'r') as f:\n",
    "    for line in f.readlines():\n",
    "        # Split the current line tabwise\n",
    "        list_vals = line.split('\\t')\n",
    "\n",
    "        # Check if the label is in our ground truth \n",
    "        # labels. If not, we should skip it.\n",
    "        if list_vals[1] not in orig_labels:\n",
    "            continue\n",
    "\n",
    "        # Extract the current label and append it \n",
    "        # to the main list\n",
    "        label = np.zeros((num_orig_labels, 1))\n",
    "        label[orig_labels.index(list_vals[1])] = 1\n",
    "        labels.append(label)\n",
    "\n",
    "        # Extract the character vector and append it to the main list\n",
    "        cur_char = np.array([float(x) for x in list_vals[start:end]])\n",
    "        data.append(cur_char)\n",
    "\n",
    "        # Exit the loop once the required dataset has been created \n",
    "        if len(data) >= num_datapoints:\n",
    "            break\n"
   ]
  },
  {
   "cell_type": "code",
   "execution_count": 5,
   "metadata": {
    "collapsed": false
   },
   "outputs": [
    {
     "name": "stdout",
     "output_type": "stream",
     "text": [
      "Epoch: 100; Error: 49.91849467546364;\n",
      "Epoch: 200; Error: 40.62371081397848;\n",
      "Epoch: 300; Error: 27.181102514592446;\n",
      "Epoch: 400; Error: 15.350411567332849;\n",
      "Epoch: 500; Error: 14.865405986177155;\n",
      "Epoch: 600; Error: 17.58831528634113;\n",
      "Epoch: 700; Error: 16.755831208713396;\n",
      "Epoch: 800; Error: 15.922431048606313;\n",
      "Epoch: 900; Error: 5.945750756552583;\n",
      "Epoch: 1000; Error: 6.375727007283926;\n",
      "Epoch: 1100; Error: 6.162244299074602;\n",
      "Epoch: 1200; Error: 6.032556026711563;\n",
      "Epoch: 1300; Error: 5.934014896016276;\n",
      "Epoch: 1400; Error: 5.852235343477588;\n",
      "Epoch: 1500; Error: 5.780441637251604;\n",
      "Epoch: 1600; Error: 5.71440600964839;\n",
      "Epoch: 1700; Error: 5.650319677033091;\n",
      "Epoch: 1800; Error: 5.582199538830556;\n",
      "Epoch: 1900; Error: 5.492776066744769;\n",
      "Epoch: 2000; Error: 5.347074328418062;\n",
      "Epoch: 2100; Error: 5.210588626198633;\n",
      "Epoch: 2200; Error: 5.032066111232831;\n",
      "Epoch: 2300; Error: 5.13400254502385;\n",
      "Epoch: 2400; Error: 4.744858329647343;\n",
      "Epoch: 2500; Error: 3.0048106811729527;\n",
      "Epoch: 2600; Error: 0.6790440380304611;\n",
      "Epoch: 2700; Error: 0.25332721334339353;\n",
      "Epoch: 2800; Error: 0.14647093857495036;\n",
      "Epoch: 2900; Error: 0.10681327143594291;\n",
      "Epoch: 3000; Error: 0.08205191220240662;\n",
      "Epoch: 3100; Error: 0.0659470542523409;\n",
      "Epoch: 3200; Error: 0.05461139692353371;\n",
      "Epoch: 3300; Error: 0.04622323206928032;\n",
      "Epoch: 3400; Error: 0.039800512664986784;\n",
      "Epoch: 3500; Error: 0.0347467908903485;\n",
      "Epoch: 3600; Error: 0.030682136289150435;\n",
      "Epoch: 3700; Error: 0.027353741027132273;\n",
      "Epoch: 3800; Error: 0.0245869881775386;\n",
      "Epoch: 3900; Error: 0.0222575364566227;\n",
      "Epoch: 4000; Error: 0.020274551310087516;\n",
      "Epoch: 4100; Error: 0.018570207504640793;\n",
      "Epoch: 4200; Error: 0.017092897398565905;\n",
      "Epoch: 4300; Error: 0.01580270894313655;\n",
      "Epoch: 4400; Error: 0.014668335952646328;\n",
      "Epoch: 4500; Error: 0.01366491677685678;\n",
      "Epoch: 4600; Error: 0.012772489888461674;\n",
      "Epoch: 4700; Error: 0.011974869005042313;\n",
      "Epoch: 4800; Error: 0.011258809780313135;\n",
      "Epoch: 4900; Error: 0.010613383300528124;\n",
      "Epoch: 5000; Error: 0.010029499065317492;\n",
      "The goal of learning is reached\n"
     ]
    }
   ],
   "source": [
    "\n",
    "# Convert the data and labels to numpy arrays\n",
    "data = np.asfarray(data)\n",
    "labels = np.array(labels).reshape(num_datapoints, num_orig_labels)\n",
    "\n",
    "# Extract the number of dimensions\n",
    "num_dims = len(data[0])\n",
    "\n",
    "# Create a feedforward neural network\n",
    "nn = nl.net.newff([[0, 1] for _ in range(len(data[0]))], \n",
    "        [128, 16, num_orig_labels])\n",
    "\n",
    "# Set the training algorithm to gradient descent\n",
    "nn.trainf = nl.train.train_gd\n",
    "\n",
    "# Train the network\n",
    "error_progress = nn.train(data[:num_train,:], labels[:num_train,:], \n",
    "        epochs=10000, show=100, goal=0.01)\n"
   ]
  },
  {
   "cell_type": "code",
   "execution_count": 6,
   "metadata": {
    "collapsed": false
   },
   "outputs": [
    {
     "name": "stdout",
     "output_type": "stream",
     "text": [
      "\n",
      "Testing on unknown data:\n",
      "\n",
      "Original: o\n",
      "Predicted: o\n",
      "\n",
      "Original: m\n",
      "Predicted: n\n",
      "\n",
      "Original: m\n",
      "Predicted: n\n",
      "\n",
      "Original: a\n",
      "Predicted: o\n",
      "\n",
      "Original: n\n",
      "Predicted: n\n"
     ]
    }
   ],
   "source": [
    "# Predict the output for test inputs \n",
    "print('\\nTesting on unknown data:')\n",
    "predicted_test = nn.sim(data[num_train:, :])\n",
    "for i in range(num_test):\n",
    "    print('\\nOriginal:', orig_labels[np.argmax(labels[i])])\n",
    "    print('Predicted:', orig_labels[np.argmax(predicted_test[i])])\n"
   ]
  },
  {
   "cell_type": "code",
   "execution_count": null,
   "metadata": {
    "collapsed": true
   },
   "outputs": [],
   "source": []
  }
 ],
 "metadata": {
  "kernelspec": {
   "display_name": "Python 3",
   "language": "python",
   "name": "python3"
  },
  "language_info": {
   "codemirror_mode": {
    "name": "ipython",
    "version": 3
   },
   "file_extension": ".py",
   "mimetype": "text/x-python",
   "name": "python",
   "nbconvert_exporter": "python",
   "pygments_lexer": "ipython3",
   "version": "3.6.0"
  }
 },
 "nbformat": 4,
 "nbformat_minor": 2
}
