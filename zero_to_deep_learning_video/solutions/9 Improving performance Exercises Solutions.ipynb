{
 "cells": [
  {
   "cell_type": "markdown",
   "metadata": {},
   "source": [
    "# 9 Improving performance Exercises Solutions"
   ]
  },
  {
   "cell_type": "code",
   "execution_count": 3,
   "metadata": {
    "collapsed": true
   },
   "outputs": [],
   "source": [
    "import pandas as pd\n",
    "import numpy as np\n",
    "%matplotlib inline\n",
    "import matplotlib.pyplot as plt"
   ]
  },
  {
   "cell_type": "markdown",
   "metadata": {},
   "source": [
    "## Exercise 1\n",
    "\n",
    "- Reload the IMDB data keeping only the first 20000 most common words\n",
    "- pad the reviews to a shorter length (eg. 70 or 80), this time make sure you keep the first part of the review if it's longer than the maximum length\n",
    "- re run the model (remember to set max_features correctly)\n",
    "- does it train faster this time?\n",
    "- do you get a better performance?"
   ]
  },
  {
   "cell_type": "code",
   "execution_count": null,
   "metadata": {
    "collapsed": true
   },
   "outputs": [],
   "source": [
    "from keras.datasets import imdb\n",
    "from keras.preprocessing.sequence import pad_sequences\n",
    "from keras.models import Sequential\n",
    "from keras.layers import Embedding, LSTM, Dense"
   ]
  },
  {
   "cell_type": "code",
   "execution_count": null,
   "metadata": {
    "collapsed": true
   },
   "outputs": [],
   "source": [
    "max_features = 20000\n",
    "skip_top = 200"
   ]
  },
  {
   "cell_type": "code",
   "execution_count": null,
   "metadata": {
    "collapsed": true
   },
   "outputs": [],
   "source": [
    "(X_train, y_train), (X_test, y_test) = imdb.load_data('/tmp/imdb.npz',\n",
    "                                                      num_words=max_features,\n",
    "                                                      start_char=1,\n",
    "                                                      oov_char=2,\n",
    "                                                      index_from=3)"
   ]
  },
  {
   "cell_type": "code",
   "execution_count": null,
   "metadata": {
    "collapsed": true
   },
   "outputs": [],
   "source": [
    "X_train.shape"
   ]
  },
  {
   "cell_type": "code",
   "execution_count": null,
   "metadata": {
    "collapsed": true
   },
   "outputs": [],
   "source": [
    "maxlen = 80"
   ]
  },
  {
   "cell_type": "code",
   "execution_count": null,
   "metadata": {
    "collapsed": true
   },
   "outputs": [],
   "source": [
    "X_train_pad = pad_sequences(X_train, maxlen=maxlen, truncating='post')\n",
    "X_test_pad = pad_sequences(X_test, maxlen=maxlen, truncating='post')"
   ]
  },
  {
   "cell_type": "code",
   "execution_count": null,
   "metadata": {
    "collapsed": true
   },
   "outputs": [],
   "source": [
    "model = Sequential()\n",
    "model.add(Embedding(max_features, 128))\n",
    "model.add(LSTM(64, dropout=0.2, recurrent_dropout=0.2))\n",
    "model.add(Dense(1, activation='sigmoid'))\n",
    "\n",
    "model.compile(loss='binary_crossentropy',\n",
    "              optimizer='adam',\n",
    "              metrics=['accuracy'])"
   ]
  },
  {
   "cell_type": "code",
   "execution_count": null,
   "metadata": {
    "collapsed": true
   },
   "outputs": [],
   "source": [
    "X_train[0]"
   ]
  },
  {
   "cell_type": "code",
   "execution_count": null,
   "metadata": {
    "collapsed": true
   },
   "outputs": [],
   "source": [
    "model.fit(X_train_pad, y_train,\n",
    "          batch_size=32,\n",
    "          epochs=2,\n",
    "          validation_split=0.3)"
   ]
  },
  {
   "cell_type": "code",
   "execution_count": null,
   "metadata": {
    "collapsed": true
   },
   "outputs": [],
   "source": [
    "score, acc = model.evaluate(X_test_pad, y_test)\n",
    "print('Test score:', score)\n",
    "print('Test accuracy:', acc)"
   ]
  },
  {
   "cell_type": "markdown",
   "metadata": {},
   "source": [
    "## Exercise 2\n",
    "\n",
    "- Reload the digits data as above\n",
    "- define a function repeated_training_reg_dropout that adds regularization and dropout to a fully connected network\n",
    "- compare the performance with/witouth dropout and regularization like we did for batch normalization\n",
    "- do you get a better performance?"
   ]
  },
  {
   "cell_type": "code",
   "execution_count": 19,
   "metadata": {
    "collapsed": true
   },
   "outputs": [],
   "source": [
    "from sklearn.datasets import load_digits\n",
    "from keras.utils import to_categorical\n",
    "from sklearn.model_selection import train_test_split\n",
    "from keras.layers import Dropout\n",
    "import keras.backend as K"
   ]
  },
  {
   "cell_type": "code",
   "execution_count": 20,
   "metadata": {
    "collapsed": true
   },
   "outputs": [],
   "source": [
    "digits = load_digits()\n",
    "X, y = digits.data, digits.target\n",
    "y_cat = to_categorical(y)\n",
    "\n",
    "X_train, X_test, y_train, y_test = train_test_split(X, y_cat, test_size=0.3)"
   ]
  },
  {
   "cell_type": "code",
   "execution_count": 21,
   "metadata": {
    "collapsed": true
   },
   "outputs": [],
   "source": [
    "def repeated_training_reg_dropout(X_train,\n",
    "                                  y_train,\n",
    "                                  X_test,\n",
    "                                  y_test,\n",
    "                                  units=512,\n",
    "                                  activation='sigmoid',\n",
    "                                  optimizer='sgd',\n",
    "                                  do_dropout=False,\n",
    "                                  rate=0.3,\n",
    "                                  kernel_regularizer='l2',\n",
    "                                  epochs=10,\n",
    "                                  repeats=3):\n",
    "    histories = []\n",
    "    \n",
    "    for repeat in range(repeats):\n",
    "        K.clear_session()\n",
    "\n",
    "        model = Sequential()\n",
    "        \n",
    "        # first fully connected layer\n",
    "        model.add(Dense(units,\n",
    "                        input_shape=X_train.shape[1:],\n",
    "                        kernel_initializer='normal',\n",
    "                        kernel_regularizer=kernel_regularizer,\n",
    "                        activation=activation))\n",
    "        if do_dropout:\n",
    "            model.add(Dropout(rate))\n",
    "\n",
    "        # second fully connected layer\n",
    "        model.add(Dense(units,\n",
    "                        kernel_initializer='normal',\n",
    "                        kernel_regularizer=kernel_regularizer,\n",
    "                        activation=activation))\n",
    "        if do_dropout:\n",
    "            model.add(Dropout(rate))\n",
    "\n",
    "        # third fully connected layer\n",
    "        model.add(Dense(units,\n",
    "                        kernel_initializer='normal',\n",
    "                        kernel_regularizer=kernel_regularizer,\n",
    "                        activation=activation))\n",
    "        if do_dropout:\n",
    "            model.add(Dropout(rate))\n",
    "\n",
    "        # output layer\n",
    "        model.add(Dense(10, activation='softmax'))\n",
    "        \n",
    "        model.compile(optimizer,\n",
    "                      'categorical_crossentropy',\n",
    "                      metrics=['accuracy'])\n",
    "\n",
    "        h = model.fit(X_train, y_train, validation_data=(X_test, y_test), epochs=epochs, verbose=0)\n",
    "        histories.append([h.history['acc'], h.history['val_acc']])\n",
    "        print(repeat, end=' ')\n",
    "\n",
    "    histories = np.array(histories)\n",
    "    \n",
    "    # calculate mean and standard deviation across repeats:\n",
    "    mean_acc = histories.mean(axis=0)\n",
    "    std_acc = histories.std(axis=0)\n",
    "    print()\n",
    "    \n",
    "    return mean_acc[0], std_acc[0], mean_acc[1], std_acc[1]"
   ]
  },
  {
   "cell_type": "code",
   "execution_count": 22,
   "metadata": {
    "collapsed": false
   },
   "outputs": [
    {
     "name": "stdout",
     "output_type": "stream",
     "text": [
      "0 1 2 \n"
     ]
    }
   ],
   "source": [
    "mean_acc, std_acc, mean_acc_val, std_acc_val = repeated_training_reg_dropout(X_train,\n",
    "                                                                             y_train,\n",
    "                                                                             X_test,\n",
    "                                                                             y_test,\n",
    "                                                                             do_dropout=False)"
   ]
  },
  {
   "cell_type": "code",
   "execution_count": 23,
   "metadata": {
    "collapsed": false
   },
   "outputs": [
    {
     "name": "stdout",
     "output_type": "stream",
     "text": [
      "0 1 2 \n"
     ]
    }
   ],
   "source": [
    "mean_acc_do, std_acc_do, mean_acc_val_do, std_acc_val_do = repeated_training_reg_dropout(X_train,\n",
    "                                                                                         y_train,\n",
    "                                                                                         X_test,\n",
    "                                                                                         y_test,\n",
    "                                                                                         do_dropout=True)"
   ]
  },
  {
   "cell_type": "code",
   "execution_count": 24,
   "metadata": {
    "collapsed": true
   },
   "outputs": [],
   "source": [
    "def plot_mean_std(m, s):\n",
    "    plt.plot(m)\n",
    "    plt.fill_between(range(len(m)), m-s, m+s, alpha=0.1)"
   ]
  },
  {
   "cell_type": "code",
   "execution_count": 25,
   "metadata": {
    "collapsed": false
   },
   "outputs": [
    {
     "data": {
      "text/plain": [
       "<matplotlib.legend.Legend at 0x7fd5a53c8fd0>"
      ]
     },
     "execution_count": 25,
     "metadata": {},
     "output_type": "execute_result"
    },
    {
     "data": {
      "image/png": "[encoded data removed]",
      "text/plain": [
       "<matplotlib.figure.Figure at 0x7fd5a5c4a080>"
      ]
     },
     "metadata": {},
     "output_type": "display_data"
    }
   ],
   "source": [
    "plot_mean_std(mean_acc, std_acc)\n",
    "plot_mean_std(mean_acc_val, std_acc_val)\n",
    "plot_mean_std(mean_acc_do, std_acc_do)\n",
    "plot_mean_std(mean_acc_val_do, std_acc_val_do)\n",
    "plt.ylim(0, 1.01)\n",
    "plt.title(\"Dropout and Regularization Accuracy\")\n",
    "plt.xlabel('Epochs')\n",
    "plt.ylabel('Accuracy')\n",
    "plt.legend(['Train', 'Test', 'Train with Dropout and Regularization', 'Test with Dropout and Regularization'], loc='best')"
   ]
  },
  {
   "cell_type": "markdown",
   "metadata": {},
   "source": [
    "## Exercise 3\n",
    "\n",
    "This is a very long and complex exercise, that should give you an idea of a real world scenario. Feel free to look at the solution if you feel lost. Also, feel free to run this on Floyd with a GPU, in which case you don't need to download the data.\n",
    "\n",
    "If you are running this locally, download and unpack the male/female pictures from [here](https://www.dropbox.com/s/nov493om2jmh2gp/male_female.tgz?dl=0). These images and labels were obtained from [Crowdflower](https://www.crowdflower.com/data-for-everyone/).\n",
    "\n",
    "Your goal is to build an image classifier that will recognize the gender of a person from pictures.\n",
    "\n",
    "- Have a look at the directory structure and inspect a couple of pictures\n",
    "- Design a model that will take a color image of size 64x64 as input and return a binary output (female=0/male=1)\n",
    "- Feel free to introduce any regularization technique in your model (Dropout, Batch Normalization, Weight Regularization)\n",
    "- Compile your model with an optimizer of your choice\n",
    "- Using `ImageDataGenerator`, define a train generator that will augment your images with some geometric transformations. Feel free to choose the parameters that make sense to you.\n",
    "- Define also a test generator, whose only purpose is to rescale the pixels by 1./255\n",
    "- use the function `flow_from_directory` to generate batches from the train and test folders. Make sure you set the `target_size` to 64x64.\n",
    "- Use the `model.fit_generator` function to fit the model on the batches generated from the ImageDataGenerator. Since you are streaming and augmenting the data in real time you will have to decide how many batches make an epoch and how many epochs you want to run\n",
    "- Train your model (you should get to at least 85% accuracy)\n",
    "- Once you are satisfied with your training, check a few of the misclassified pictures. Are those sensible errors?"
   ]
  },
  {
   "cell_type": "code",
   "execution_count": null,
   "metadata": {
    "collapsed": true
   },
   "outputs": [],
   "source": [
    "# if you are running this on floydhub.com, execute this cell and skip the next\n",
    "data_path = /input"
   ]
  },
  {
   "cell_type": "code",
   "execution_count": 16,
   "metadata": {
    "collapsed": false
   },
   "outputs": [],
   "source": [
    "# If you are running this locally\n",
    "# uncomment the next 3 lines to download, extract and set the data path:\n",
    "# !wget https://www.dropbox.com/s/nov493om2jmh2gp/male_female.tgz?dl=0 -O male_female.tgz\n",
    "# !tar -xzvf male_female.tgz\n",
    "data_path = '../datax'"
   ]
  },
  {
   "cell_type": "code",
   "execution_count": 8,
   "metadata": {
    "collapsed": false
   },
   "outputs": [],
   "source": [
    "from keras.layers import Conv2D\n",
    "from keras.layers import MaxPooling2D\n",
    "from keras.layers import Flatten\n",
    "from keras.layers import BatchNormalization\n",
    "from itertools import islice\n",
    "from keras.preprocessing.image import ImageDataGenerator\n",
    "import keras.backend as K\n",
    "from keras.models import Sequential\n",
    "from keras.layers import Dense"
   ]
  },
  {
   "cell_type": "code",
   "execution_count": 9,
   "metadata": {
    "collapsed": false
   },
   "outputs": [],
   "source": [
    "K.clear_session()\n",
    "\n",
    "model = Sequential()\n",
    "model.add(Conv2D(32, (3, 3), input_shape = (64, 64, 3), activation = 'relu'))\n",
    "model.add(MaxPooling2D(pool_size = (2, 2)))\n",
    "model.add(BatchNormalization())\n",
    "\n",
    "model.add(Conv2D(64, (3, 3), activation = 'relu'))\n",
    "model.add(MaxPooling2D(pool_size = (2, 2)))\n",
    "model.add(BatchNormalization())\n",
    "\n",
    "model.add(Conv2D(64, (3, 3), activation = 'relu'))\n",
    "model.add(MaxPooling2D(pool_size = (2, 2)))\n",
    "model.add(BatchNormalization())\n",
    "\n",
    "model.add(Flatten())\n",
    "\n",
    "model.add(Dense(128, activation = 'relu'))\n",
    "model.add(Dense(1, activation = 'sigmoid'))"
   ]
  },
  {
   "cell_type": "code",
   "execution_count": 10,
   "metadata": {
    "collapsed": false
   },
   "outputs": [
    {
     "name": "stdout",
     "output_type": "stream",
     "text": [
      "_________________________________________________________________\n",
      "Layer (type)                 Output Shape              Param #   \n",
      "=================================================================\n",
      "conv2d_1 (Conv2D)            (None, 62, 62, 32)        896       \n",
      "_________________________________________________________________\n",
      "max_pooling2d_1 (MaxPooling2 (None, 31, 31, 32)        0         \n",
      "_________________________________________________________________\n",
      "batch_normalization_1 (Batch (None, 31, 31, 32)        128       \n",
      "_________________________________________________________________\n",
      "conv2d_2 (Conv2D)            (None, 29, 29, 64)        18496     \n",
      "_________________________________________________________________\n",
      "max_pooling2d_2 (MaxPooling2 (None, 14, 14, 64)        0         \n",
      "_________________________________________________________________\n",
      "batch_normalization_2 (Batch (None, 14, 14, 64)        256       \n",
      "_________________________________________________________________\n",
      "conv2d_3 (Conv2D)            (None, 12, 12, 64)        36928     \n",
      "_________________________________________________________________\n",
      "max_pooling2d_3 (MaxPooling2 (None, 6, 6, 64)          0         \n",
      "_________________________________________________________________\n",
      "batch_normalization_3 (Batch (None, 6, 6, 64)          256       \n",
      "_________________________________________________________________\n",
      "flatten_1 (Flatten)          (None, 2304)              0         \n",
      "_________________________________________________________________\n",
      "dense_1 (Dense)              (None, 128)               295040    \n",
      "_________________________________________________________________\n",
      "dense_2 (Dense)              (None, 1)                 129       \n",
      "=================================================================\n",
      "Total params: 352,129\n",
      "Trainable params: 351,809\n",
      "Non-trainable params: 320\n",
      "_________________________________________________________________\n"
     ]
    }
   ],
   "source": [
    "model.compile(optimizer = 'adam',\n",
    "              loss = 'binary_crossentropy',\n",
    "              metrics = ['accuracy'])\n",
    "\n",
    "model.summary()"
   ]
  },
  {
   "cell_type": "code",
   "execution_count": 11,
   "metadata": {
    "collapsed": true
   },
   "outputs": [],
   "source": [
    "train_gen = ImageDataGenerator(rescale = 1./255,\n",
    "                               width_shift_range=0.1,\n",
    "                               height_shift_range=0.1,\n",
    "                               rotation_range = 10,\n",
    "                               shear_range = 0.2,\n",
    "                               zoom_range = 0.2,\n",
    "                               horizontal_flip = True)\n",
    "\n",
    "test_gen = ImageDataGenerator(rescale = 1./255)"
   ]
  },
  {
   "cell_type": "code",
   "execution_count": 17,
   "metadata": {
    "collapsed": false
   },
   "outputs": [
    {
     "name": "stdout",
     "output_type": "stream",
     "text": [
      "Found 11663 images belonging to 2 classes.\n",
      "Found 2920 images belonging to 2 classes.\n"
     ]
    }
   ],
   "source": [
    "train = train_gen.flow_from_directory(data_path + '/train',\n",
    "                                      target_size = (64, 64),\n",
    "                                      batch_size = 16,\n",
    "                                      class_mode = 'binary')\n",
    "\n",
    "test = test_gen.flow_from_directory(data_path + '/test',\n",
    "                                    target_size = (64, 64),\n",
    "                                    batch_size = 16,\n",
    "                                    class_mode = 'binary')"
   ]
  },
  {
   "cell_type": "code",
   "execution_count": 18,
   "metadata": {
    "collapsed": false
   },
   "outputs": [
    {
     "name": "stdout",
     "output_type": "stream",
     "text": [
      "Epoch 1/200\n",
      "800/800 [==============================] - 311s 389ms/step - loss: 0.6594 - acc: 0.6729 - val_loss: 0.6275 - val_acc: 0.6548\n",
      "Epoch 2/200\n",
      "800/800 [==============================] - 333s 416ms/step - loss: 0.4942 - acc: 0.7533 - val_loss: 0.4638 - val_acc: 0.7785\n",
      "Epoch 3/200\n",
      "800/800 [==============================] - 334s 418ms/step - loss: 0.4549 - acc: 0.7806 - val_loss: 0.4166 - val_acc: 0.7982\n",
      "Epoch 4/200\n",
      "800/800 [==============================] - 326s 407ms/step - loss: 0.4368 - acc: 0.7867 - val_loss: 0.4121 - val_acc: 0.8064\n",
      "Epoch 5/200\n",
      "800/800 [==============================] - 314s 392ms/step - loss: 0.4045 - acc: 0.8071 - val_loss: 0.4078 - val_acc: 0.8114\n",
      "Epoch 6/200\n",
      "800/800 [==============================] - 309s 387ms/step - loss: 0.3884 - acc: 0.8176 - val_loss: 0.3738 - val_acc: 0.8249\n",
      "Epoch 7/200\n",
      "800/800 [==============================] - 311s 389ms/step - loss: 0.3665 - acc: 0.8289 - val_loss: 0.4712 - val_acc: 0.7769\n",
      "Epoch 8/200\n",
      "800/800 [==============================] - 313s 391ms/step - loss: 0.3507 - acc: 0.8366 - val_loss: 0.4305 - val_acc: 0.8083\n",
      "Epoch 9/200\n",
      "800/800 [==============================] - 315s 394ms/step - loss: 0.3354 - acc: 0.8428 - val_loss: 0.4127 - val_acc: 0.7804\n",
      "Epoch 10/200\n",
      "800/800 [==============================] - 317s 396ms/step - loss: 0.3264 - acc: 0.8473 - val_loss: 0.3468 - val_acc: 0.8374\n",
      "Epoch 11/200\n",
      "800/800 [==============================] - 198s 248ms/step - loss: 0.3208 - acc: 0.8554 - val_loss: 0.3120 - val_acc: 0.8534\n",
      "Epoch 12/200\n",
      "800/800 [==============================] - 160s 200ms/step - loss: 0.3036 - acc: 0.8609 - val_loss: 0.3387 - val_acc: 0.8490\n",
      "Epoch 13/200\n",
      "800/800 [==============================] - 178s 223ms/step - loss: 0.3033 - acc: 0.8596 - val_loss: 0.3222 - val_acc: 0.8512\n",
      "Epoch 14/200\n",
      "800/800 [==============================] - 178s 223ms/step - loss: 0.2937 - acc: 0.8668 - val_loss: 0.3391 - val_acc: 0.8506\n",
      "Epoch 15/200\n",
      "800/800 [==============================] - 167s 209ms/step - loss: 0.2817 - acc: 0.8740 - val_loss: 0.3021 - val_acc: 0.8634\n",
      "Epoch 16/200\n",
      "800/800 [==============================] - 166s 208ms/step - loss: 0.2818 - acc: 0.8733 - val_loss: 0.3049 - val_acc: 0.8593\n",
      "Epoch 17/200\n",
      "800/800 [==============================] - 171s 214ms/step - loss: 0.2774 - acc: 0.8789 - val_loss: 0.3427 - val_acc: 0.8427\n",
      "Epoch 18/200\n",
      "800/800 [==============================] - 179s 224ms/step - loss: 0.2772 - acc: 0.8748 - val_loss: 0.3769 - val_acc: 0.8465\n",
      "Epoch 19/200\n",
      "800/800 [==============================] - 167s 209ms/step - loss: 0.2599 - acc: 0.8835 - val_loss: 0.3202 - val_acc: 0.8565\n",
      "Epoch 20/200\n",
      "800/800 [==============================] - 171s 213ms/step - loss: 0.2572 - acc: 0.8866 - val_loss: 0.2955 - val_acc: 0.8681\n",
      "Epoch 21/200\n",
      "800/800 [==============================] - 168s 210ms/step - loss: 0.2601 - acc: 0.8818 - val_loss: 0.3022 - val_acc: 0.8653\n",
      "Epoch 22/200\n",
      "800/800 [==============================] - 182s 228ms/step - loss: 0.2561 - acc: 0.8860 - val_loss: 0.2682 - val_acc: 0.8763\n",
      "Epoch 23/200\n",
      "800/800 [==============================] - 179s 224ms/step - loss: 0.2541 - acc: 0.8868 - val_loss: 0.3047 - val_acc: 0.8694\n",
      "Epoch 24/200\n",
      "800/800 [==============================] - 182s 228ms/step - loss: 0.2514 - acc: 0.8880 - val_loss: 0.3190 - val_acc: 0.8575\n",
      "Epoch 25/200\n",
      "800/800 [==============================] - 178s 222ms/step - loss: 0.2485 - acc: 0.8876 - val_loss: 0.2958 - val_acc: 0.8697\n",
      "Epoch 26/200\n",
      "800/800 [==============================] - 189s 236ms/step - loss: 0.2367 - acc: 0.8950 - val_loss: 0.3105 - val_acc: 0.8637\n",
      "Epoch 27/200\n",
      "800/800 [==============================] - 191s 239ms/step - loss: 0.2386 - acc: 0.8962 - val_loss: 0.3077 - val_acc: 0.8709\n",
      "Epoch 28/200\n",
      "800/800 [==============================] - 176s 220ms/step - loss: 0.2400 - acc: 0.8942 - val_loss: 0.2942 - val_acc: 0.8672\n",
      "Epoch 29/200\n",
      "800/800 [==============================] - 160s 200ms/step - loss: 0.2261 - acc: 0.8977 - val_loss: 0.2925 - val_acc: 0.8822\n",
      "Epoch 30/200\n",
      "800/800 [==============================] - 158s 198ms/step - loss: 0.2282 - acc: 0.9022 - val_loss: 0.2867 - val_acc: 0.8716\n",
      "Epoch 31/200\n",
      "800/800 [==============================] - 156s 196ms/step - loss: 0.2222 - acc: 0.9023 - val_loss: 0.2895 - val_acc: 0.8684\n",
      "Epoch 32/200\n",
      "800/800 [==============================] - 156s 195ms/step - loss: 0.2195 - acc: 0.9052 - val_loss: 0.2863 - val_acc: 0.8643\n",
      "Epoch 33/200\n",
      "800/800 [==============================] - 156s 196ms/step - loss: 0.2187 - acc: 0.9030 - val_loss: 0.3155 - val_acc: 0.8584\n",
      "Epoch 34/200\n",
      "800/800 [==============================] - 157s 196ms/step - loss: 0.2175 - acc: 0.9043 - val_loss: 0.3026 - val_acc: 0.8759\n",
      "Epoch 35/200\n",
      "800/800 [==============================] - 156s 195ms/step - loss: 0.2178 - acc: 0.9076 - val_loss: 0.3030 - val_acc: 0.8703\n",
      "Epoch 36/200\n",
      "800/800 [==============================] - 156s 195ms/step - loss: 0.2145 - acc: 0.9072 - val_loss: 0.2939 - val_acc: 0.8728\n",
      "Epoch 37/200\n",
      "800/800 [==============================] - 157s 196ms/step - loss: 0.2115 - acc: 0.9098 - val_loss: 0.3030 - val_acc: 0.8766\n",
      "Epoch 38/200\n",
      "800/800 [==============================] - 156s 195ms/step - loss: 0.1984 - acc: 0.9165 - val_loss: 0.3168 - val_acc: 0.8709\n",
      "Epoch 39/200\n",
      "800/800 [==============================] - 158s 198ms/step - loss: 0.2072 - acc: 0.9110 - val_loss: 0.2978 - val_acc: 0.8737\n",
      "Epoch 40/200\n",
      "800/800 [==============================] - 156s 195ms/step - loss: 0.2012 - acc: 0.9143 - val_loss: 0.3209 - val_acc: 0.8631\n",
      "Epoch 41/200\n",
      "800/800 [==============================] - 156s 196ms/step - loss: 0.1995 - acc: 0.9112 - val_loss: 0.3006 - val_acc: 0.8788\n",
      "Epoch 42/200\n",
      "800/800 [==============================] - 157s 196ms/step - loss: 0.2020 - acc: 0.9155 - val_loss: 0.2885 - val_acc: 0.8835\n",
      "Epoch 43/200\n",
      "800/800 [==============================] - 157s 196ms/step - loss: 0.1945 - acc: 0.9172 - val_loss: 0.3046 - val_acc: 0.8750\n",
      "Epoch 44/200\n",
      "800/800 [==============================] - 157s 196ms/step - loss: 0.1958 - acc: 0.9169 - val_loss: 0.3111 - val_acc: 0.8753\n",
      "Epoch 45/200\n",
      "800/800 [==============================] - 158s 197ms/step - loss: 0.1928 - acc: 0.9194 - val_loss: 0.3109 - val_acc: 0.8703\n",
      "Epoch 46/200\n",
      "800/800 [==============================] - 157s 196ms/step - loss: 0.1945 - acc: 0.9176 - val_loss: 0.3085 - val_acc: 0.8756\n",
      "Epoch 47/200\n",
      "800/800 [==============================] - 159s 199ms/step - loss: 0.1913 - acc: 0.9187 - val_loss: 0.2977 - val_acc: 0.8766\n",
      "Epoch 48/200\n",
      "800/800 [==============================] - 157s 196ms/step - loss: 0.1853 - acc: 0.9205 - val_loss: 0.2868 - val_acc: 0.8797\n",
      "Epoch 49/200\n",
      "800/800 [==============================] - 157s 197ms/step - loss: 0.1936 - acc: 0.9189 - val_loss: 0.3281 - val_acc: 0.8822\n",
      "Epoch 50/200\n",
      "800/800 [==============================] - 159s 198ms/step - loss: 0.1818 - acc: 0.9225 - val_loss: 0.2827 - val_acc: 0.8784\n",
      "Epoch 51/200\n",
      "800/800 [==============================] - 157s 196ms/step - loss: 0.1840 - acc: 0.9223 - val_loss: 0.3069 - val_acc: 0.8728\n",
      "Epoch 52/200\n",
      "800/800 [==============================] - 157s 197ms/step - loss: 0.1723 - acc: 0.9296 - val_loss: 0.2870 - val_acc: 0.8869\n",
      "Epoch 53/200\n",
      "800/800 [==============================] - 157s 196ms/step - loss: 0.1766 - acc: 0.9232 - val_loss: 0.3155 - val_acc: 0.8741\n",
      "Epoch 54/200\n",
      "800/800 [==============================] - 157s 196ms/step - loss: 0.1783 - acc: 0.9237 - val_loss: 0.2903 - val_acc: 0.8810\n",
      "Epoch 55/200\n",
      "800/800 [==============================] - 157s 196ms/step - loss: 0.1774 - acc: 0.9257 - val_loss: 0.3039 - val_acc: 0.8800\n",
      "Epoch 56/200\n",
      "800/800 [==============================] - 158s 197ms/step - loss: 0.1718 - acc: 0.9257 - val_loss: 0.3328 - val_acc: 0.8753\n",
      "Epoch 57/200\n",
      "800/800 [==============================] - 157s 197ms/step - loss: 0.1712 - acc: 0.9303 - val_loss: 0.2837 - val_acc: 0.8828\n",
      "Epoch 58/200\n",
      "800/800 [==============================] - 158s 198ms/step - loss: 0.1671 - acc: 0.9309 - val_loss: 0.3423 - val_acc: 0.8719\n",
      "Epoch 59/200\n",
      "800/800 [==============================] - 158s 197ms/step - loss: 0.1734 - acc: 0.9278 - val_loss: 0.3053 - val_acc: 0.8797\n",
      "Epoch 60/200\n",
      "800/800 [==============================] - 158s 198ms/step - loss: 0.1686 - acc: 0.9294 - val_loss: 0.4491 - val_acc: 0.8521\n",
      "Epoch 61/200\n",
      "800/800 [==============================] - 158s 198ms/step - loss: 0.1598 - acc: 0.9337 - val_loss: 0.3305 - val_acc: 0.8747\n",
      "Epoch 62/200\n",
      "800/800 [==============================] - 159s 199ms/step - loss: 0.1666 - acc: 0.9308 - val_loss: 0.3218 - val_acc: 0.8763\n",
      "Epoch 63/200\n",
      "800/800 [==============================] - 158s 197ms/step - loss: 0.1640 - acc: 0.9335 - val_loss: 0.3416 - val_acc: 0.8810\n",
      "Epoch 64/200\n",
      "800/800 [==============================] - 157s 197ms/step - loss: 0.1586 - acc: 0.9354 - val_loss: 0.3509 - val_acc: 0.8731\n",
      "Epoch 65/200\n",
      "800/800 [==============================] - 158s 197ms/step - loss: 0.1576 - acc: 0.9327 - val_loss: 0.3170 - val_acc: 0.8875\n",
      "Epoch 66/200\n",
      "800/800 [==============================] - 158s 198ms/step - loss: 0.1593 - acc: 0.9338 - val_loss: 0.3015 - val_acc: 0.8797\n",
      "Epoch 67/200\n",
      "800/800 [==============================] - 158s 198ms/step - loss: 0.1585 - acc: 0.9323 - val_loss: 0.3296 - val_acc: 0.8712\n",
      "Epoch 68/200\n",
      "800/800 [==============================] - 158s 198ms/step - loss: 0.1539 - acc: 0.9373 - val_loss: 0.3355 - val_acc: 0.8653\n",
      "Epoch 69/200\n",
      "800/800 [==============================] - 158s 197ms/step - loss: 0.1553 - acc: 0.9367 - val_loss: 0.3190 - val_acc: 0.8791\n",
      "Epoch 70/200\n",
      "800/800 [==============================] - 158s 198ms/step - loss: 0.1558 - acc: 0.9380 - val_loss: 0.3163 - val_acc: 0.8778\n",
      "Epoch 71/200\n",
      "800/800 [==============================] - 157s 196ms/step - loss: 0.1496 - acc: 0.9378 - val_loss: 0.3705 - val_acc: 0.8672\n",
      "Epoch 72/200\n",
      "800/800 [==============================] - 157s 197ms/step - loss: 0.1489 - acc: 0.9395 - val_loss: 0.3277 - val_acc: 0.8794\n",
      "Epoch 73/200\n",
      "800/800 [==============================] - 159s 198ms/step - loss: 0.1508 - acc: 0.9380 - val_loss: 0.3062 - val_acc: 0.8816\n",
      "Epoch 74/200\n",
      "800/800 [==============================] - 158s 198ms/step - loss: 0.1458 - acc: 0.9404 - val_loss: 0.3243 - val_acc: 0.8850\n",
      "Epoch 75/200\n",
      "800/800 [==============================] - 158s 198ms/step - loss: 0.1452 - acc: 0.9412 - val_loss: 0.3418 - val_acc: 0.8766\n",
      "Epoch 76/200\n",
      "800/800 [==============================] - 157s 196ms/step - loss: 0.1481 - acc: 0.9395 - val_loss: 0.3355 - val_acc: 0.8741\n",
      "Epoch 77/200\n",
      "800/800 [==============================] - 158s 197ms/step - loss: 0.1491 - acc: 0.9379 - val_loss: 0.3575 - val_acc: 0.8653\n",
      "Epoch 78/200\n",
      "800/800 [==============================] - 158s 197ms/step - loss: 0.1446 - acc: 0.9411 - val_loss: 0.3287 - val_acc: 0.8684\n",
      "Epoch 79/200\n",
      "800/800 [==============================] - 157s 197ms/step - loss: 0.1421 - acc: 0.9440 - val_loss: 0.3086 - val_acc: 0.8819\n",
      "Epoch 80/200\n",
      "800/800 [==============================] - 158s 198ms/step - loss: 0.1464 - acc: 0.9401 - val_loss: 0.3552 - val_acc: 0.8737\n",
      "Epoch 81/200\n",
      "800/800 [==============================] - 158s 198ms/step - loss: 0.1490 - acc: 0.9397 - val_loss: 0.3245 - val_acc: 0.8822\n",
      "Epoch 82/200\n",
      "800/800 [==============================] - 159s 198ms/step - loss: 0.1352 - acc: 0.9437 - val_loss: 0.3913 - val_acc: 0.8722\n",
      "Epoch 83/200\n",
      "800/800 [==============================] - 159s 198ms/step - loss: 0.1437 - acc: 0.9421 - val_loss: 0.2960 - val_acc: 0.8831\n",
      "Epoch 84/200\n",
      "800/800 [==============================] - 158s 198ms/step - loss: 0.1366 - acc: 0.9438 - val_loss: 0.3733 - val_acc: 0.8716\n",
      "Epoch 85/200\n",
      "800/800 [==============================] - 160s 200ms/step - loss: 0.1395 - acc: 0.9427 - val_loss: 0.3519 - val_acc: 0.8769\n",
      "Epoch 86/200\n",
      "800/800 [==============================] - 159s 199ms/step - loss: 0.1332 - acc: 0.9473 - val_loss: 0.3458 - val_acc: 0.8759\n",
      "Epoch 87/200\n",
      "800/800 [==============================] - 158s 198ms/step - loss: 0.1350 - acc: 0.9438 - val_loss: 0.3336 - val_acc: 0.8838\n",
      "Epoch 88/200\n",
      "800/800 [==============================] - 158s 198ms/step - loss: 0.1373 - acc: 0.9458 - val_loss: 0.4180 - val_acc: 0.8575\n",
      "Epoch 89/200\n",
      "800/800 [==============================] - 158s 198ms/step - loss: 0.1313 - acc: 0.9467 - val_loss: 0.3448 - val_acc: 0.8831\n",
      "Epoch 90/200\n",
      "800/800 [==============================] - 159s 198ms/step - loss: 0.1339 - acc: 0.9439 - val_loss: 0.3384 - val_acc: 0.8828\n",
      "Epoch 91/200\n",
      "800/800 [==============================] - 160s 200ms/step - loss: 0.1300 - acc: 0.9480 - val_loss: 0.3380 - val_acc: 0.8835\n",
      "Epoch 92/200\n",
      "800/800 [==============================] - 159s 199ms/step - loss: 0.1292 - acc: 0.9481 - val_loss: 0.3371 - val_acc: 0.8869\n",
      "Epoch 93/200\n",
      "800/800 [==============================] - 159s 199ms/step - loss: 0.1313 - acc: 0.9474 - val_loss: 0.3258 - val_acc: 0.8756\n",
      "Epoch 94/200\n",
      "800/800 [==============================] - 159s 199ms/step - loss: 0.1217 - acc: 0.9515 - val_loss: 0.3889 - val_acc: 0.8835\n",
      "Epoch 95/200\n",
      "800/800 [==============================] - 158s 198ms/step - loss: 0.1192 - acc: 0.9541 - val_loss: 0.3620 - val_acc: 0.8838\n",
      "Epoch 96/200\n",
      "800/800 [==============================] - 159s 198ms/step - loss: 0.1266 - acc: 0.9507 - val_loss: 0.3569 - val_acc: 0.8819\n",
      "Epoch 97/200\n",
      "800/800 [==============================] - 159s 198ms/step - loss: 0.1246 - acc: 0.9516 - val_loss: 0.3669 - val_acc: 0.8816\n",
      "Epoch 98/200\n",
      "800/800 [==============================] - 158s 198ms/step - loss: 0.1228 - acc: 0.9493 - val_loss: 0.3846 - val_acc: 0.8819\n",
      "Epoch 99/200\n",
      "800/800 [==============================] - 158s 198ms/step - loss: 0.1306 - acc: 0.9478 - val_loss: 0.3543 - val_acc: 0.8784\n",
      "Epoch 100/200\n",
      "800/800 [==============================] - 159s 198ms/step - loss: 0.1267 - acc: 0.9497 - val_loss: 0.3619 - val_acc: 0.8769\n",
      "Epoch 101/200\n",
      "800/800 [==============================] - 159s 199ms/step - loss: 0.1277 - acc: 0.9503 - val_loss: 0.3595 - val_acc: 0.8741\n",
      "Epoch 102/200\n",
      "800/800 [==============================] - 159s 199ms/step - loss: 0.1324 - acc: 0.9473 - val_loss: 0.4019 - val_acc: 0.8750\n",
      "Epoch 103/200\n",
      "800/800 [==============================] - 159s 199ms/step - loss: 0.1161 - acc: 0.9538 - val_loss: 0.3951 - val_acc: 0.8753\n",
      "Epoch 104/200\n",
      "800/800 [==============================] - 160s 200ms/step - loss: 0.1245 - acc: 0.9512 - val_loss: 0.3654 - val_acc: 0.8838\n",
      "Epoch 105/200\n",
      "800/800 [==============================] - 158s 198ms/step - loss: 0.1224 - acc: 0.9541 - val_loss: 0.3805 - val_acc: 0.8772\n",
      "Epoch 106/200\n",
      "800/800 [==============================] - 159s 198ms/step - loss: 0.1209 - acc: 0.9502 - val_loss: 0.3724 - val_acc: 0.8850\n",
      "Epoch 107/200\n",
      "800/800 [==============================] - 159s 199ms/step - loss: 0.1184 - acc: 0.9541 - val_loss: 0.3624 - val_acc: 0.8788\n",
      "Epoch 108/200\n",
      "800/800 [==============================] - 159s 199ms/step - loss: 0.1164 - acc: 0.9532 - val_loss: 0.3713 - val_acc: 0.8813\n",
      "Epoch 109/200\n",
      "800/800 [==============================] - 159s 199ms/step - loss: 0.1154 - acc: 0.9553 - val_loss: 0.3997 - val_acc: 0.8847\n",
      "Epoch 110/200\n",
      "800/800 [==============================] - 159s 199ms/step - loss: 0.1189 - acc: 0.9540 - val_loss: 0.4102 - val_acc: 0.8788\n",
      "Epoch 111/200\n",
      "800/800 [==============================] - 159s 198ms/step - loss: 0.1148 - acc: 0.9551 - val_loss: 0.3547 - val_acc: 0.8822\n",
      "Epoch 112/200\n",
      "800/800 [==============================] - 159s 199ms/step - loss: 0.1124 - acc: 0.9531 - val_loss: 0.3785 - val_acc: 0.8800\n",
      "Epoch 113/200\n",
      "800/800 [==============================] - 159s 199ms/step - loss: 0.1271 - acc: 0.9501 - val_loss: 0.3299 - val_acc: 0.8875\n",
      "Epoch 114/200\n",
      "800/800 [==============================] - 159s 199ms/step - loss: 0.1151 - acc: 0.9535 - val_loss: 0.3416 - val_acc: 0.8938\n",
      "Epoch 115/200\n",
      "800/800 [==============================] - 159s 199ms/step - loss: 0.1175 - acc: 0.9541 - val_loss: 0.3889 - val_acc: 0.8803\n",
      "Epoch 116/200\n",
      "800/800 [==============================] - 160s 200ms/step - loss: 0.1086 - acc: 0.9577 - val_loss: 0.4309 - val_acc: 0.8810\n",
      "Epoch 117/200\n",
      "800/800 [==============================] - 160s 200ms/step - loss: 0.1110 - acc: 0.9558 - val_loss: 0.3818 - val_acc: 0.8860\n",
      "Epoch 118/200\n",
      "800/800 [==============================] - 159s 199ms/step - loss: 0.1241 - acc: 0.9536 - val_loss: 0.3575 - val_acc: 0.8891\n",
      "Epoch 119/200\n",
      "800/800 [==============================] - 160s 200ms/step - loss: 0.1098 - acc: 0.9569 - val_loss: 0.3764 - val_acc: 0.8857\n",
      "Epoch 120/200\n",
      "800/800 [==============================] - 160s 200ms/step - loss: 0.1137 - acc: 0.9547 - val_loss: 0.4041 - val_acc: 0.8810\n",
      "Epoch 121/200\n",
      "800/800 [==============================] - 160s 200ms/step - loss: 0.1186 - acc: 0.9531 - val_loss: 0.3938 - val_acc: 0.8916\n",
      "Epoch 122/200\n",
      "800/800 [==============================] - 160s 200ms/step - loss: 0.1093 - acc: 0.9570 - val_loss: 0.3485 - val_acc: 0.8900\n",
      "Epoch 123/200\n",
      "800/800 [==============================] - 160s 200ms/step - loss: 0.1076 - acc: 0.9576 - val_loss: 0.3841 - val_acc: 0.8719\n",
      "Epoch 124/200\n",
      "800/800 [==============================] - 160s 200ms/step - loss: 0.1061 - acc: 0.9570 - val_loss: 0.3772 - val_acc: 0.8810\n",
      "Epoch 125/200\n",
      "800/800 [==============================] - 160s 200ms/step - loss: 0.0989 - acc: 0.9595 - val_loss: 0.4285 - val_acc: 0.8737\n",
      "Epoch 126/200\n",
      "800/800 [==============================] - 159s 199ms/step - loss: 0.1079 - acc: 0.9570 - val_loss: 0.3872 - val_acc: 0.8766\n",
      "Epoch 127/200\n",
      "800/800 [==============================] - 160s 200ms/step - loss: 0.1040 - acc: 0.9620 - val_loss: 0.3972 - val_acc: 0.8797\n",
      "Epoch 128/200\n",
      "800/800 [==============================] - 160s 200ms/step - loss: 0.1081 - acc: 0.9580 - val_loss: 0.3549 - val_acc: 0.8847\n",
      "Epoch 129/200\n",
      "800/800 [==============================] - 160s 200ms/step - loss: 0.1039 - acc: 0.9603 - val_loss: 0.4146 - val_acc: 0.8772\n",
      "Epoch 130/200\n",
      "800/800 [==============================] - 159s 199ms/step - loss: 0.1086 - acc: 0.9592 - val_loss: 0.4014 - val_acc: 0.8734\n",
      "Epoch 131/200\n",
      "800/800 [==============================] - 160s 200ms/step - loss: 0.1080 - acc: 0.9580 - val_loss: 0.3731 - val_acc: 0.8878\n",
      "Epoch 132/200\n",
      "800/800 [==============================] - 160s 200ms/step - loss: 0.1083 - acc: 0.9584 - val_loss: 0.4180 - val_acc: 0.8844\n",
      "Epoch 133/200\n",
      "800/800 [==============================] - 160s 200ms/step - loss: 0.1128 - acc: 0.9573 - val_loss: 0.3591 - val_acc: 0.8806\n",
      "Epoch 134/200\n",
      "800/800 [==============================] - 160s 200ms/step - loss: 0.1024 - acc: 0.9595 - val_loss: 0.4151 - val_acc: 0.8841\n",
      "Epoch 135/200\n",
      "800/800 [==============================] - 160s 200ms/step - loss: 0.1094 - acc: 0.9591 - val_loss: 0.3854 - val_acc: 0.8935\n",
      "Epoch 136/200\n",
      "800/800 [==============================] - 160s 201ms/step - loss: 0.0959 - acc: 0.9638 - val_loss: 0.4651 - val_acc: 0.8744\n",
      "Epoch 137/200\n",
      "800/800 [==============================] - 161s 201ms/step - loss: 0.1066 - acc: 0.9585 - val_loss: 0.3639 - val_acc: 0.8816\n",
      "Epoch 138/200\n",
      "800/800 [==============================] - 161s 201ms/step - loss: 0.1019 - acc: 0.9630 - val_loss: 0.4364 - val_acc: 0.8728\n",
      "Epoch 139/200\n",
      "800/800 [==============================] - 160s 200ms/step - loss: 0.1066 - acc: 0.9563 - val_loss: 0.4003 - val_acc: 0.8800\n",
      "Epoch 140/200\n",
      "800/800 [==============================] - 160s 200ms/step - loss: 0.0945 - acc: 0.9652 - val_loss: 0.4407 - val_acc: 0.8872\n",
      "Epoch 141/200\n",
      "800/800 [==============================] - 160s 200ms/step - loss: 0.1026 - acc: 0.9610 - val_loss: 0.3996 - val_acc: 0.8866\n",
      "Epoch 142/200\n",
      "800/800 [==============================] - 160s 200ms/step - loss: 0.0950 - acc: 0.9630 - val_loss: 0.4362 - val_acc: 0.8813\n",
      "Epoch 143/200\n",
      "800/800 [==============================] - 161s 201ms/step - loss: 0.0893 - acc: 0.9656 - val_loss: 0.4164 - val_acc: 0.8763\n",
      "Epoch 144/200\n",
      "800/800 [==============================] - 160s 200ms/step - loss: 0.0940 - acc: 0.9637 - val_loss: 0.4416 - val_acc: 0.8800\n",
      "Epoch 145/200\n",
      "800/800 [==============================] - 160s 201ms/step - loss: 0.1006 - acc: 0.9615 - val_loss: 0.4031 - val_acc: 0.8806\n",
      "Epoch 146/200\n",
      "800/800 [==============================] - 161s 202ms/step - loss: 0.1019 - acc: 0.9620 - val_loss: 0.4492 - val_acc: 0.8831\n",
      "Epoch 147/200\n",
      "800/800 [==============================] - 161s 201ms/step - loss: 0.0955 - acc: 0.9625 - val_loss: 0.4651 - val_acc: 0.8737\n",
      "Epoch 148/200\n",
      "800/800 [==============================] - 160s 200ms/step - loss: 0.1004 - acc: 0.9618 - val_loss: 0.4071 - val_acc: 0.8781\n",
      "Epoch 149/200\n",
      "800/800 [==============================] - 161s 201ms/step - loss: 0.0953 - acc: 0.9637 - val_loss: 0.4334 - val_acc: 0.8803\n",
      "Epoch 150/200\n",
      "800/800 [==============================] - 161s 201ms/step - loss: 0.1029 - acc: 0.9591 - val_loss: 0.3786 - val_acc: 0.8835\n",
      "Epoch 151/200\n",
      "800/800 [==============================] - 161s 201ms/step - loss: 0.0902 - acc: 0.9633 - val_loss: 0.4186 - val_acc: 0.8794\n",
      "Epoch 152/200\n",
      "800/800 [==============================] - 161s 202ms/step - loss: 0.1025 - acc: 0.9591 - val_loss: 0.4092 - val_acc: 0.8831\n",
      "Epoch 153/200\n",
      "800/800 [==============================] - 161s 201ms/step - loss: 0.0920 - acc: 0.9635 - val_loss: 0.4396 - val_acc: 0.8759\n",
      "Epoch 154/200\n",
      "800/800 [==============================] - 160s 201ms/step - loss: 0.0924 - acc: 0.9650 - val_loss: 0.3899 - val_acc: 0.8853\n",
      "Epoch 155/200\n",
      "800/800 [==============================] - 162s 202ms/step - loss: 0.0949 - acc: 0.9629 - val_loss: 0.4113 - val_acc: 0.8810\n",
      "Epoch 156/200\n",
      "800/800 [==============================] - 161s 201ms/step - loss: 0.0913 - acc: 0.9637 - val_loss: 0.4004 - val_acc: 0.8825\n",
      "Epoch 157/200\n",
      "800/800 [==============================] - 160s 200ms/step - loss: 0.0935 - acc: 0.9651 - val_loss: 0.4044 - val_acc: 0.8803\n",
      "Epoch 158/200\n",
      "800/800 [==============================] - 161s 201ms/step - loss: 0.0881 - acc: 0.9654 - val_loss: 0.4556 - val_acc: 0.8853\n",
      "Epoch 159/200\n",
      "800/800 [==============================] - 162s 202ms/step - loss: 0.0937 - acc: 0.9640 - val_loss: 0.4236 - val_acc: 0.8838\n",
      "Epoch 160/200\n",
      "800/800 [==============================] - 161s 201ms/step - loss: 0.0865 - acc: 0.9648 - val_loss: 0.4199 - val_acc: 0.8882\n",
      "Epoch 161/200\n",
      "800/800 [==============================] - 161s 201ms/step - loss: 0.0929 - acc: 0.9643 - val_loss: 0.4137 - val_acc: 0.8828\n",
      "Epoch 162/200\n",
      "800/800 [==============================] - 161s 201ms/step - loss: 0.0902 - acc: 0.9642 - val_loss: 0.4138 - val_acc: 0.8756\n",
      "Epoch 163/200\n",
      "800/800 [==============================] - 161s 201ms/step - loss: 0.0962 - acc: 0.9621 - val_loss: 0.4017 - val_acc: 0.8860\n",
      "Epoch 164/200\n",
      "800/800 [==============================] - 161s 201ms/step - loss: 0.0858 - acc: 0.9673 - val_loss: 0.3926 - val_acc: 0.8781\n",
      "Epoch 165/200\n",
      "800/800 [==============================] - 161s 201ms/step - loss: 0.0897 - acc: 0.9641 - val_loss: 0.4545 - val_acc: 0.8769\n",
      "Epoch 166/200\n",
      "800/800 [==============================] - 161s 201ms/step - loss: 0.0836 - acc: 0.9670 - val_loss: 0.3864 - val_acc: 0.8794\n",
      "Epoch 167/200\n",
      "800/800 [==============================] - 161s 202ms/step - loss: 0.0845 - acc: 0.9688 - val_loss: 0.4274 - val_acc: 0.8831\n",
      "Epoch 168/200\n",
      "800/800 [==============================] - 162s 203ms/step - loss: 0.0935 - acc: 0.9631 - val_loss: 0.3988 - val_acc: 0.8816\n",
      "Epoch 169/200\n",
      "800/800 [==============================] - 162s 203ms/step - loss: 0.0890 - acc: 0.9662 - val_loss: 0.4363 - val_acc: 0.8769\n",
      "Epoch 170/200\n",
      "800/800 [==============================] - 162s 203ms/step - loss: 0.0901 - acc: 0.9658 - val_loss: 0.4534 - val_acc: 0.8763\n",
      "Epoch 171/200\n",
      "800/800 [==============================] - 162s 203ms/step - loss: 0.0927 - acc: 0.9644 - val_loss: 0.4491 - val_acc: 0.8810\n",
      "Epoch 172/200\n",
      "800/800 [==============================] - 162s 202ms/step - loss: 0.0891 - acc: 0.9654 - val_loss: 0.4226 - val_acc: 0.8835\n",
      "Epoch 173/200\n",
      "800/800 [==============================] - 163s 204ms/step - loss: 0.0930 - acc: 0.9657 - val_loss: 0.3748 - val_acc: 0.8797\n",
      "Epoch 174/200\n",
      "800/800 [==============================] - 162s 203ms/step - loss: 0.0865 - acc: 0.9673 - val_loss: 0.4264 - val_acc: 0.8838\n",
      "Epoch 175/200\n",
      "800/800 [==============================] - 161s 202ms/step - loss: 0.0889 - acc: 0.9650 - val_loss: 0.3940 - val_acc: 0.8766\n",
      "Epoch 176/200\n",
      "800/800 [==============================] - 162s 202ms/step - loss: 0.0897 - acc: 0.9651 - val_loss: 0.4031 - val_acc: 0.8835\n",
      "Epoch 177/200\n",
      "800/800 [==============================] - 162s 202ms/step - loss: 0.0932 - acc: 0.9649 - val_loss: 0.4074 - val_acc: 0.8857\n",
      "Epoch 178/200\n",
      "800/800 [==============================] - 162s 203ms/step - loss: 0.0885 - acc: 0.9670 - val_loss: 0.4386 - val_acc: 0.8828\n",
      "Epoch 179/200\n",
      "800/800 [==============================] - 162s 203ms/step - loss: 0.0789 - acc: 0.9695 - val_loss: 0.4221 - val_acc: 0.8853\n",
      "Epoch 180/200\n",
      "800/800 [==============================] - 162s 202ms/step - loss: 0.0913 - acc: 0.9645 - val_loss: 0.3855 - val_acc: 0.8794\n",
      "Epoch 181/200\n",
      "800/800 [==============================] - 162s 203ms/step - loss: 0.0873 - acc: 0.9662 - val_loss: 0.4152 - val_acc: 0.8863\n",
      "Epoch 182/200\n",
      "800/800 [==============================] - 162s 203ms/step - loss: 0.0877 - acc: 0.9654 - val_loss: 0.3813 - val_acc: 0.8885\n",
      "Epoch 183/200\n",
      "800/800 [==============================] - 163s 203ms/step - loss: 0.0844 - acc: 0.9698 - val_loss: 0.3893 - val_acc: 0.8816\n",
      "Epoch 184/200\n",
      "800/800 [==============================] - 162s 203ms/step - loss: 0.0870 - acc: 0.9678 - val_loss: 0.3814 - val_acc: 0.8835\n",
      "Epoch 185/200\n",
      "800/800 [==============================] - 162s 202ms/step - loss: 0.0848 - acc: 0.9679 - val_loss: 0.3807 - val_acc: 0.8831\n",
      "Epoch 186/200\n",
      "800/800 [==============================] - 162s 202ms/step - loss: 0.0870 - acc: 0.9674 - val_loss: 0.4337 - val_acc: 0.8857\n",
      "Epoch 187/200\n",
      "800/800 [==============================] - 162s 203ms/step - loss: 0.0783 - acc: 0.9699 - val_loss: 0.4386 - val_acc: 0.8806\n",
      "Epoch 188/200\n",
      "800/800 [==============================] - 162s 202ms/step - loss: 0.0840 - acc: 0.9681 - val_loss: 0.4496 - val_acc: 0.8831\n",
      "Epoch 189/200\n",
      "800/800 [==============================] - 162s 202ms/step - loss: 0.0794 - acc: 0.9708 - val_loss: 0.4043 - val_acc: 0.8860\n",
      "Epoch 190/200\n",
      "800/800 [==============================] - 162s 203ms/step - loss: 0.0789 - acc: 0.9705 - val_loss: 0.4223 - val_acc: 0.8847\n",
      "Epoch 191/200\n",
      "800/800 [==============================] - 162s 202ms/step - loss: 0.0860 - acc: 0.9663 - val_loss: 0.4249 - val_acc: 0.8850\n",
      "Epoch 192/200\n",
      "800/800 [==============================] - 162s 203ms/step - loss: 0.0813 - acc: 0.9675 - val_loss: 0.4249 - val_acc: 0.8866\n",
      "Epoch 193/200\n",
      "800/800 [==============================] - 162s 203ms/step - loss: 0.0788 - acc: 0.9702 - val_loss: 0.4149 - val_acc: 0.8922\n",
      "Epoch 194/200\n",
      "800/800 [==============================] - 162s 202ms/step - loss: 0.0774 - acc: 0.9692 - val_loss: 0.4178 - val_acc: 0.8929\n",
      "Epoch 195/200\n",
      "800/800 [==============================] - 162s 203ms/step - loss: 0.0862 - acc: 0.9681 - val_loss: 0.4466 - val_acc: 0.8885\n",
      "Epoch 196/200\n",
      "800/800 [==============================] - 162s 203ms/step - loss: 0.0809 - acc: 0.9700 - val_loss: 0.4265 - val_acc: 0.8894\n",
      "Epoch 197/200\n",
      "800/800 [==============================] - 162s 202ms/step - loss: 0.0765 - acc: 0.9706 - val_loss: 0.4860 - val_acc: 0.8835\n",
      "Epoch 198/200\n",
      "800/800 [==============================] - 163s 203ms/step - loss: 0.0847 - acc: 0.9681 - val_loss: 0.4385 - val_acc: 0.8835\n",
      "Epoch 199/200\n",
      "800/800 [==============================] - 163s 204ms/step - loss: 0.0851 - acc: 0.9676 - val_loss: 0.4189 - val_acc: 0.8791\n",
      "Epoch 200/200\n",
      "800/800 [==============================] - 162s 202ms/step - loss: 0.0753 - acc: 0.9724 - val_loss: 0.4617 - val_acc: 0.8822\n"
     ]
    },
    {
     "data": {
      "text/plain": [
       "<keras.callbacks.History at 0x7fd6087ed278>"
      ]
     },
     "execution_count": 18,
     "metadata": {},
     "output_type": "execute_result"
    }
   ],
   "source": [
    "model.fit_generator(train,\n",
    "                    steps_per_epoch = 800,\n",
    "                    epochs = 200,\n",
    "                    validation_data = test,\n",
    "                    validation_steps = 200)"
   ]
  },
  {
   "cell_type": "code",
   "execution_count": null,
   "metadata": {
    "collapsed": true
   },
   "outputs": [],
   "source": [
    "X_test = []\n",
    "y_test = []\n",
    "for ts in islice(test, 50):\n",
    "    X_test.append(ts[0])\n",
    "    y_test.append(ts[1])\n",
    "\n",
    "X_test = np.concatenate(X_test)\n",
    "y_test = np.concatenate(y_test)"
   ]
  },
  {
   "cell_type": "code",
   "execution_count": null,
   "metadata": {
    "collapsed": true
   },
   "outputs": [],
   "source": [
    "y_pred = model.predict_classes(X_test).ravel()"
   ]
  },
  {
   "cell_type": "code",
   "execution_count": null,
   "metadata": {
    "collapsed": true
   },
   "outputs": [],
   "source": [
    "np.argwhere(y_test != y_pred).ravel()"
   ]
  },
  {
   "cell_type": "code",
   "execution_count": null,
   "metadata": {
    "collapsed": true
   },
   "outputs": [],
   "source": [
    "plt.imshow(X_test[14])"
   ]
  },
  {
   "cell_type": "code",
   "execution_count": null,
   "metadata": {
    "collapsed": true
   },
   "outputs": [],
   "source": []
  }
 ],
 "metadata": {
  "anaconda-cloud": {},
  "kernelspec": {
   "display_name": "Python [default]",
   "language": "python",
   "name": "python3"
  },
  "language_info": {
   "codemirror_mode": {
    "name": "ipython",
    "version": 3
   },
   "file_extension": ".py",
   "mimetype": "text/x-python",
   "name": "python",
   "nbconvert_exporter": "python",
   "pygments_lexer": "ipython3",
   "version": "3.5.2"
  }
 },
 "nbformat": 4,
 "nbformat_minor": 2
}
